{
 "cells": [
  {
   "cell_type": "code",
   "execution_count": 1,
   "metadata": {},
   "outputs": [
    {
     "name": "stderr",
     "output_type": "stream",
     "text": [
      "C:\\Users\\rnt1013\\Anaconda3\\lib\\site-packages\\h5py\\__init__.py:36: FutureWarning: Conversion of the second argument of issubdtype from `float` to `np.floating` is deprecated. In future, it will be treated as `np.float64 == np.dtype(float).type`.\n",
      "  from ._conv import register_converters as _register_converters\n",
      "Using TensorFlow backend.\n"
     ]
    }
   ],
   "source": [
    "### import required lib ###\n",
    "from keras.models import Sequential\n",
    "from keras.layers import Dense, Activation\n",
    "import pandas as pd"
   ]
  },
  {
   "cell_type": "code",
   "execution_count": 2,
   "metadata": {},
   "outputs": [],
   "source": [
    "### read dataset from disk ###\n",
    "data = pd.read_csv('data.csv')\n",
    "data.columns = ['DATE', 'SMA', 'EMA', 'MOM', 'STOCK', 'STOCD', 'RSI', 'MACD', 'LWR', 'ADO', 'CCI', 'LABEL']\n",
    "sensex_data = pd.read_csv('SENSEX.csv')\n",
    "sensex_data.columns = ['DATE', 'OPEN', 'HIGH', 'LOW', 'CLOSE']"
   ]
  },
  {
   "cell_type": "code",
   "execution_count": 3,
   "metadata": {},
   "outputs": [],
   "source": [
    "### merge data to get 'CLOSE' column in the data frame ###\n",
    "sensex_data = sensex_data.iloc[19:,:].reset_index(drop = True).copy()\n",
    "required_sensex_data = sensex_data[['DATE', 'CLOSE']]\n",
    "required_sensex_data = required_sensex_data.merge(data, on='DATE', how='right')\n",
    "# required_sensex_data.head()"
   ]
  },
  {
   "cell_type": "code",
   "execution_count": 4,
   "metadata": {},
   "outputs": [],
   "source": [
    "### Feature and Label for model  ###\n",
    "label = required_sensex_data['CLOSE']\n",
    "feature = required_sensex_data.drop(['CLOSE', 'DATE', 'LABEL'], axis=1)\n",
    "\n",
    "# print(label.head())\n",
    "# print(feature.head())"
   ]
  },
  {
   "cell_type": "code",
   "execution_count": 5,
   "metadata": {},
   "outputs": [],
   "source": [
    "### train-test split\n",
    "from sklearn.model_selection import train_test_split\n",
    "train_x, test_x, train_y, test_y = train_test_split(feature, label, test_size=0.2, random_state=None, shuffle=False)\n",
    "\n",
    "# print(train_x)\n",
    "# print(train_y)\n",
    "# print(test_x)\n",
    "# print(test_y)"
   ]
  },
  {
   "cell_type": "markdown",
   "metadata": {},
   "source": [
    "**ERROR Function**"
   ]
  },
  {
   "cell_type": "code",
   "execution_count": 10,
   "metadata": {},
   "outputs": [],
   "source": [
    "### Error ###\n",
    "def error_function(test_y, predicted_y):\n",
    "    import numpy as np\n",
    "    MAPE = (1/len(test_y)) * np.sum((np.absolute(test_y - predicted_y) / np.absolute(test_y)) * 100)\n",
    "    MAE = np.sum(np.absolute(test_y - predicted_y) / np.absolute(test_y)) / len(test_y)\n",
    "    rRMSE = np.sqrt(np.sum((test_y - predicted_y) ** 2) / len(test_y))\n",
    "    MSE = np.sum((test_y - predicted_y) ** 2) / len(test_y) \n",
    "    return MAPE, MAE, rRMSE, MSE"
   ]
  },
  {
   "cell_type": "markdown",
   "metadata": {},
   "source": [
    "**SRV model** "
   ]
  },
  {
   "cell_type": "code",
   "execution_count": 11,
   "metadata": {},
   "outputs": [],
   "source": [
    "def srv_model(train_x, train_y, test_x):\n",
    "    from sklearn.svm import SVR\n",
    "    import numpy as np\n",
    "\n",
    "    clf = SVR(C=1.0, epsilon=0.2, gamma=4.0)\n",
    "    clf.fit(train_x, train_y)\n",
    "    predicted_y = clf.predict(test_x)\n",
    "    return predicted_y"
   ]
  },
  {
   "cell_type": "code",
   "execution_count": 12,
   "metadata": {},
   "outputs": [
    {
     "name": "stdout",
     "output_type": "stream",
     "text": [
      "35.55841724104483 0.3555841724104483 6423.300647194327 41258791.20424706\n"
     ]
    }
   ],
   "source": [
    "### final output for single stage - SVR ###\n",
    "svr_predicted_y = srv_model(train_x, train_y, test_x)\n",
    "svr_MAPE, svr_MAE, svr_rRMSE, svr_MSE = error_function(test_y, svr_predicted_y)\n",
    "print(svr_MAPE, svr_MAE, svr_rRMSE, svr_MSE)"
   ]
  },
  {
   "cell_type": "markdown",
   "metadata": {},
   "source": [
    "**ANN Model**"
   ]
  },
  {
   "cell_type": "code",
   "execution_count": 23,
   "metadata": {},
   "outputs": [],
   "source": [
    "def ann_model(train_x, train_y, test_x):\n",
    "    model = Sequential()\n",
    "    model.add(Dense(64, activation='tanh', kernel_initializer='normal', input_dim=10))\n",
    "    model.add(Dense(1, kernel_initializer='normal'))\n",
    "    model.compile(optimizer='adagrad', loss='mean_squared_error')\n",
    "\n",
    "    model.fit(train_x, train_y,\n",
    "              epochs=3000,\n",
    "              batch_size=128)\n",
    "    ann_predicted_y = model.predict(test_x)\n",
    "    ann_predicted_y = ann_predicted_y.reshape(-1)\n",
    "    return ann_predicted_y"
   ]
  },
  {
   "cell_type": "code",
   "execution_count": 24,
   "metadata": {
    "scrolled": true
   },
   "outputs": [
    {
     "name": "stdout",
     "output_type": "stream",
     "text": [
      "Epoch 1/20\n",
      "1989/1989 [==============================] - 0s 111us/step - loss: 154086513.6410\n",
      "Epoch 2/20\n",
      "1989/1989 [==============================] - 0s 20us/step - loss: 154066490.3449\n",
      "Epoch 3/20\n",
      "1989/1989 [==============================] - 0s 24us/step - loss: 154046064.6596\n",
      "Epoch 4/20\n",
      "1989/1989 [==============================] - 0s 20us/step - loss: 154026139.2298\n",
      "Epoch 5/20\n",
      "1989/1989 [==============================] - 0s 20us/step - loss: 154006754.9120\n",
      "Epoch 6/20\n",
      "1989/1989 [==============================] - 0s 18us/step - loss: 153987913.9588\n",
      "Epoch 7/20\n",
      "1989/1989 [==============================] - 0s 18us/step - loss: 153969414.0493\n",
      "Epoch 8/20\n",
      "1989/1989 [==============================] - 0s 22us/step - loss: 153951242.6506\n",
      "Epoch 9/20\n",
      "1989/1989 [==============================] - 0s 22us/step - loss: 153933383.4731\n",
      "Epoch 10/20\n",
      "1989/1989 [==============================] - 0s 24us/step - loss: 153915962.1197\n",
      "Epoch 11/20\n",
      "1989/1989 [==============================] - 0s 22us/step - loss: 153898793.8140\n",
      "Epoch 12/20\n",
      "1989/1989 [==============================] - 0s 24us/step - loss: 153881963.9457\n",
      "Epoch 13/20\n",
      "1989/1989 [==============================] - 0s 18us/step - loss: 153865378.1317\n",
      "Epoch 14/20\n",
      "1989/1989 [==============================] - 0s 22us/step - loss: 153849031.0307\n",
      "Epoch 15/20\n",
      "1989/1989 [==============================] - 0s 20us/step - loss: 153832846.1498\n",
      "Epoch 16/20\n",
      "1989/1989 [==============================] - 0s 20us/step - loss: 153816936.1488\n",
      "Epoch 17/20\n",
      "1989/1989 [==============================] - 0s 20us/step - loss: 153801261.0397\n",
      "Epoch 18/20\n",
      "1989/1989 [==============================] - 0s 20us/step - loss: 153785795.7969\n",
      "Epoch 19/20\n",
      "1989/1989 [==============================] - 0s 20us/step - loss: 153770516.3439\n",
      "Epoch 20/20\n",
      "1989/1989 [==============================] - 0s 22us/step - loss: 153755447.6581\n",
      "99.89540323201649 0.998954032320165 17710.36362418785 313656979.70095617\n"
     ]
    }
   ],
   "source": [
    "### final output for single stage - ANN ###\n",
    "ann_predicted_y = ann_model(train_x, train_y, test_x)\n",
    "ann_MAPE, ann_MAE, ann_rRMSE, ann_MSE = error_function(test_y, ann_predicted_y)\n",
    "print(ann_MAPE, ann_MAE, ann_rRMSE, ann_MSE)"
   ]
  },
  {
   "cell_type": "markdown",
   "metadata": {},
   "source": [
    "**RANDOM FOREST Model**"
   ]
  },
  {
   "cell_type": "code",
   "execution_count": 27,
   "metadata": {},
   "outputs": [],
   "source": [
    "def random_forest_reg(train_x, train_y, test_x):\n",
    "    from sklearn.ensemble import RandomForestRegressor\n",
    "    import numpy as np\n",
    "\n",
    "    rfr = RandomForestRegressor(max_depth=2, random_state=0)\n",
    "    rfr.fit(train_x, train_y)\n",
    "    rfr_predicted_y = rfr.predict(test_x)\n",
    "    return rfr_predicted_y"
   ]
  },
  {
   "cell_type": "code",
   "execution_count": 28,
   "metadata": {},
   "outputs": [
    {
     "name": "stdout",
     "output_type": "stream",
     "text": [
      "5.038216014701784 0.050382160147017845 1024.4081932184984 1049412.146333188\n"
     ]
    }
   ],
   "source": [
    "### final output for single stage - SVR ###\n",
    "svr_predicted_y = random_forest_reg(train_x, train_y, test_x)\n",
    "rfr_MAPE, rfr_MAE, rfr_rRMSE, rfr_MSE = error_function(test_y, svr_predicted_y)\n",
    "print(rfr_MAPE, rfr_MAE, rfr_rRMSE, rfr_MSE)"
   ]
  },
  {
   "cell_type": "markdown",
   "metadata": {},
   "source": [
    "**Two stage model**"
   ]
  },
  {
   "cell_type": "code",
   "execution_count": null,
   "metadata": {},
   "outputs": [],
   "source": [
    "# just call function for two stage model"
   ]
  }
 ],
 "metadata": {
  "kernelspec": {
   "display_name": "Python 3",
   "language": "python",
   "name": "python3"
  },
  "language_info": {
   "codemirror_mode": {
    "name": "ipython",
    "version": 3
   },
   "file_extension": ".py",
   "mimetype": "text/x-python",
   "name": "python",
   "nbconvert_exporter": "python",
   "pygments_lexer": "ipython3",
   "version": "3.6.4"
  }
 },
 "nbformat": 4,
 "nbformat_minor": 2
}
